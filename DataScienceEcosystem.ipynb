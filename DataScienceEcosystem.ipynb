{
  "nbformat": 4,
  "nbformat_minor": 0,
  "metadata": {
    "colab": {
      "provenance": [],
      "authorship_tag": "ABX9TyPQ0DBLUoeCL1B0j0GRy8K4",
      "include_colab_link": true
    },
    "kernelspec": {
      "name": "python3",
      "display_name": "Python 3"
    },
    "language_info": {
      "name": "python"
    }
  },
  "cells": [
    {
      "cell_type": "markdown",
      "metadata": {
        "id": "view-in-github",
        "colab_type": "text"
      },
      "source": [
        "<a href=\"https://colab.research.google.com/github/okgrover/IBM-Data-Science-Course/blob/main/DataScienceEcosystem.ipynb\" target=\"_parent\"><img src=\"https://colab.research.google.com/assets/colab-badge.svg\" alt=\"Open In Colab\"/></a>"
      ]
    },
    {
      "cell_type": "markdown",
      "source": [
        "# Data Science Tools and Ecosystem\n"
      ],
      "metadata": {
        "id": "FXanI0zhFkjP"
      }
    },
    {
      "cell_type": "markdown",
      "source": [
        "## Author\n",
        "Ojal K Grover"
      ],
      "metadata": {
        "id": "7emGSbf7NRWp"
      }
    },
    {
      "cell_type": "markdown",
      "source": [
        "In this notebook, Data Science Tools and Ecosystem are summarised."
      ],
      "metadata": {
        "id": "p4jQBYqPJXLh"
      }
    },
    {
      "cell_type": "markdown",
      "source": [
        "**Objectives:**\n",
        "- List popular languages for Data Science\n",
        "- List commonly used libraries for Data Science\n",
        "- Introduce basic arithmetic operations in Python"
      ],
      "metadata": {
        "id": "4-_wHmP4M8q6"
      }
    },
    {
      "cell_type": "markdown",
      "source": [
        "Some of the popular languages that Data Scientists utilise are:\n",
        "1. Python\n",
        "2. R\n",
        "3. SQL\n",
        "4. Java\n",
        "5. Julia\n",
        "6. Scala"
      ],
      "metadata": {
        "id": "EX2tXld_J9gV"
      }
    },
    {
      "cell_type": "markdown",
      "source": [
        "Some of the commonly used libraries used by Data Scientists include:\n",
        "1. Numpy\n",
        "2. Pandas\n",
        "3. Matplotlib\n",
        "4. Seaborn\n",
        "5. Scikit-learn\n",
        "6. Tensorflow"
      ],
      "metadata": {
        "id": "Z7drKosRKZLO"
      }
    },
    {
      "cell_type": "markdown",
      "source": [
        "| Data Science Tools |\n",
        "|--------------------|\n",
        "| Jupyter Notebook   |\n",
        "| RStudio            |\n",
        "| VS Code            |\n",
        "| Power BI           |\n",
        "| Tableau            |\n",
        "| Apache Spark"
      ],
      "metadata": {
        "id": "UygFfD6SK3bA"
      }
    },
    {
      "cell_type": "markdown",
      "source": [
        "### Below are a few examples of evaluating arithmetic expressions in Python."
      ],
      "metadata": {
        "id": "0trNgQX6LxPj"
      }
    },
    {
      "cell_type": "code",
      "source": [
        "# This is a simple arithmetic expression to multiply then add integers\n",
        "result = (3*4) + 5\n",
        "result"
      ],
      "metadata": {
        "colab": {
          "base_uri": "https://localhost:8080/"
        },
        "id": "7x2wLaBwMc6n",
        "outputId": "91fdc6ba-7398-4621-cacc-55ffe5784388"
      },
      "execution_count": 2,
      "outputs": [
        {
          "output_type": "execute_result",
          "data": {
            "text/plain": [
              "17"
            ]
          },
          "metadata": {},
          "execution_count": 2
        }
      ]
    },
    {
      "cell_type": "code",
      "source": [
        "# This will convert 200 minutes to hours by dividing by 60\n",
        "hours = 200 / 60\n",
        "hours"
      ],
      "metadata": {
        "colab": {
          "base_uri": "https://localhost:8080/"
        },
        "id": "AH4ogXR_MpRs",
        "outputId": "fd22b8dd-1d40-4be9-9a15-e3813e3465bb"
      },
      "execution_count": 3,
      "outputs": [
        {
          "output_type": "execute_result",
          "data": {
            "text/plain": [
              "3.3333333333333335"
            ]
          },
          "metadata": {},
          "execution_count": 3
        }
      ]
    }
  ]
}